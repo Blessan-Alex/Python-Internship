{
  "cells": [
    {
      "cell_type": "code",
      "execution_count": null,
      "metadata": {
        "vscode": {
          "languageId": "plaintext"
        }
      },
      "outputs": [],
      "source": [
        "# Task 5: Sales Data Analysis\n",
        "\n",
        "This notebook loads `sales.csv`, computes summary statistics, and generates charts using Pandas and Matplotlib/Seaborn.\n"
      ]
    },
    {
      "cell_type": "code",
      "execution_count": null,
      "metadata": {},
      "outputs": [],
      "source": [
        "import pandas as pd\n",
        "import seaborn as sns\n",
        "import matplotlib.pyplot as plt\n",
        "\n",
        "# Load data\n",
        "sales = pd.read_csv('sales.csv', parse_dates=['date'])\n",
        "sales['revenue'] = sales['units'] * sales['unit_price']\n",
        "\n",
        "print('Shape:', sales.shape)\n",
        "sales.head()\n"
      ]
    },
    {
      "cell_type": "code",
      "execution_count": null,
      "metadata": {},
      "outputs": [],
      "source": [
        "# Total revenue by region\n",
        "rev_by_region = sales.groupby('region')['revenue'].sum().sort_values(ascending=False)\n",
        "rev_by_region\n"
      ]
    },
    {
      "cell_type": "code",
      "execution_count": null,
      "metadata": {},
      "outputs": [],
      "source": [
        "# Units sold by product\n",
        "units_by_product = sales.groupby('product')['units'].sum().sort_values(ascending=False)\n",
        "units_by_product\n"
      ]
    },
    {
      "cell_type": "code",
      "execution_count": null,
      "metadata": {},
      "outputs": [],
      "source": [
        "# Plot: Revenue by region (bar)\n",
        "plt.figure(figsize=(6,4))\n",
        "sns.barplot(x=rev_by_region.index, y=rev_by_region.values, palette='viridis')\n",
        "plt.title('Revenue by Region')\n",
        "plt.xlabel('Region')\n",
        "plt.ylabel('Revenue')\n",
        "plt.tight_layout()\n",
        "plt.show()\n"
      ]
    },
    {
      "cell_type": "code",
      "execution_count": null,
      "metadata": {},
      "outputs": [],
      "source": [
        "# Plot: Units by product (bar)\n",
        "plt.figure(figsize=(6,4))\n",
        "sns.barplot(x=units_by_product.index, y=units_by_product.values, palette='magma')\n",
        "plt.title('Units Sold by Product')\n",
        "plt.xlabel('Product')\n",
        "plt.ylabel('Units')\n",
        "plt.tight_layout()\n",
        "plt.show()\n"
      ]
    }
  ],
  "metadata": {
    "language_info": {
      "name": "python"
    }
  },
  "nbformat": 4,
  "nbformat_minor": 2
}
